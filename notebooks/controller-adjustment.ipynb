{
 "cells": [
  {
   "cell_type": "markdown",
   "metadata": {},
   "source": [
    "# Notebook"
   ]
  },
  {
   "cell_type": "code",
   "execution_count": 12,
   "metadata": {},
   "outputs": [],
   "source": [
    "import math\n",
    "import yaml"
   ]
  },
  {
   "cell_type": "markdown",
   "metadata": {},
   "source": [
    "## Book Keeping"
   ]
  },
  {
   "cell_type": "code",
   "execution_count": 13,
   "metadata": {},
   "outputs": [],
   "source": [
    "MODEL = \"PE1R_315_S6\"\n",
    "VERBOSITY = 1"
   ]
  },
  {
   "cell_type": "markdown",
   "metadata": {},
   "source": []
  },
  {
   "cell_type": "code",
   "execution_count": 14,
   "metadata": {},
   "outputs": [],
   "source": [
    "SWITCHING_FREQUENCY = 1000\n",
    "BUS_VOLTAGE = 650\n",
    "PEAK_CARRIER_VOLTAGE = 3.25\n",
    "GEARBOX_GAIN = 10\n",
    "LOAD_MOMENT_OF_INERTIA = 120\n",
    "LOAD_FRICTION_COEFFICIENT = 31.8\n",
    "CURRENT_SENSOR_GAIN = 1 / 90\n",
    "CURRENT_RESPONSE_TIME = 30e-3\n",
    "CURRENT_OVERSHOOT = 7\n",
    "SPEED_SENSOR_GAIN =  2 / 100\n",
    "SPEED_RESPONSE_TIME = 300e-3\n",
    "SPEED_OVERSHOOT = 5\n",
    "POSITION_SENSOR_GAIN =  1 / 120\n",
    "POSITION_RESPONSE_TIME = 3000e-3\n",
    "POSITION_OVERSHOOT = 12"
   ]
  },
  {
   "cell_type": "markdown",
   "metadata": {},
   "source": []
  },
  {
   "cell_type": "code",
   "execution_count": 15,
   "metadata": {},
   "outputs": [],
   "source": [
    "with open(\"../reports/\" + MODEL + \"_parameters.yaml\", \"r\") as file:\n",
    "    parameters = yaml.safe_load(file)"
   ]
  },
  {
   "cell_type": "markdown",
   "metadata": {},
   "source": []
  },
  {
   "cell_type": "code",
   "execution_count": 16,
   "metadata": {},
   "outputs": [
    {
     "name": "stdout",
     "output_type": "stream",
     "text": [
      "Kc :: 400.0\n"
     ]
    }
   ],
   "source": [
    "Kc = 2 * BUS_VOLTAGE / PEAK_CARRIER_VOLTAGE\n",
    "Ts = 1 / SWITCHING_FREQUENCY\n",
    "\n",
    "if VERBOSITY:\n",
    "    print(\"Kc :: {0}\".format(Kc))"
   ]
  },
  {
   "cell_type": "markdown",
   "metadata": {},
   "source": []
  },
  {
   "cell_type": "code",
   "execution_count": 17,
   "metadata": {},
   "outputs": [
    {
     "name": "stdout",
     "output_type": "stream",
     "text": [
      "Kpid :: 6.3855e-01\n",
      "Tiid :: 1.3019e-03\n",
      "tau_zid :: 8.3133e-04\n"
     ]
    }
   ],
   "source": [
    "Rs = parameters[\"Rs\"]\n",
    "Ld = parameters[\"Lq\"]\n",
    "\n",
    "tau_maid = Ld / Rs\n",
    "Kmaid = (Kc * CURRENT_SENSOR_GAIN) / Rs\n",
    "tau_mfid = CURRENT_RESPONSE_TIME / (3 * 10)\n",
    "zeta_id = -math.log(CURRENT_OVERSHOOT / 100) / math.sqrt(math.pi**2 + math.log(CURRENT_OVERSHOOT / 100)**2)\n",
    "Kpid = ((2 * tau_maid) / tau_mfid - 1) / Kmaid\n",
    "Tiid = (tau_mfid**2 * zeta_id**2 * Kmaid) / tau_maid\n",
    "tau_zid = Kpid * Tiid\n",
    "\n",
    "if VERBOSITY:\n",
    "    print(\"Kpid :: {:.4e}\".format(Kpid))\n",
    "    print(\"Tiid :: {:.4e}\".format(Tiid))\n",
    "    print(\"tau_zid :: {:.4e}\".format(tau_zid))"
   ]
  },
  {
   "cell_type": "markdown",
   "metadata": {},
   "source": []
  },
  {
   "cell_type": "code",
   "execution_count": 18,
   "metadata": {},
   "outputs": [
    {
     "name": "stdout",
     "output_type": "stream",
     "text": [
      "Kpiq :: 6.1425e-02\n",
      "Tiiq :: 1.3019e-01\n",
      "tau_ziq :: 7.9969e-03\n"
     ]
    }
   ],
   "source": [
    "Lq = parameters[\"Lq\"]\n",
    "\n",
    "tau_maiq = Lq / Rs\n",
    "Kmaiq = (Kc * CURRENT_SENSOR_GAIN) / Rs\n",
    "tau_mfiq = CURRENT_RESPONSE_TIME / 3\n",
    "zeta_iq = -math.log(CURRENT_OVERSHOOT / 100) / math.sqrt(math.pi**2 + math.log(CURRENT_OVERSHOOT / 100)**2)\n",
    "Kpiq = ((2 * tau_maiq) / tau_mfiq - 1) / Kmaiq\n",
    "Tiiq = (tau_mfiq**2 * zeta_iq**2 * Kmaiq) / tau_maiq\n",
    "tau_ziq = Kpiq * Tiiq\n",
    "\n",
    "if VERBOSITY:\n",
    "    print(\"Kpiq :: {:.4e}\".format(Kpiq))\n",
    "    print(\"Tiiq :: {:.4e}\".format(Tiiq))\n",
    "    print(\"tau_ziq :: {:.4e}\".format(tau_ziq))"
   ]
  },
  {
   "cell_type": "markdown",
   "metadata": {},
   "source": []
  },
  {
   "cell_type": "code",
   "execution_count": 19,
   "metadata": {},
   "outputs": [
    {
     "name": "stdout",
     "output_type": "stream",
     "text": [
      "Kpv :: 1.1147e+01\n",
      "Tiv :: 8.4614e-03\n",
      "tau_zv :: 9.4323e-02\n"
     ]
    }
   ],
   "source": [
    "Br = parameters[\"Br\"]\n",
    "Jr = parameters[\"Jr\"]\n",
    "Ke = parameters[\"Ke\"]\n",
    "Kt = parameters[\"Kt\"]\n",
    "\n",
    "Jeq = Jr + LOAD_MOMENT_OF_INERTIA / GEARBOX_GAIN**2\n",
    "Beq = Br + LOAD_FRICTION_COEFFICIENT / GEARBOX_GAIN**2\n",
    "Jti = (Ke * Kt * Tiiq) / (Kc * CURRENT_SENSOR_GAIN)\n",
    "Ksv = SPEED_SENSOR_GAIN * (30 / math.pi) \n",
    "\n",
    "tau_mav = (Jeq + Jti) / Beq\n",
    "Kmav = (Kt * Ksv) / (Beq * GEARBOX_GAIN * CURRENT_SENSOR_GAIN)\n",
    "tau_mfv = SPEED_RESPONSE_TIME / 3\n",
    "zeta_v = -math.log(SPEED_OVERSHOOT / 100) / math.sqrt(math.pi**2 + math.log(SPEED_OVERSHOOT / 100)**2)\n",
    "Kpv = ((2 * tau_mav) / tau_mfv - 1) / Kmav\n",
    "Tiv = (tau_mfv**2 * zeta_v**2 * Kmav) / tau_mav\n",
    "tau_zv = Kpv * Tiv\n",
    "\n",
    "if VERBOSITY:\n",
    "    print(\"Kpv :: {:.4e}\".format(Kpv))\n",
    "    print(\"Tiv :: {:.4e}\".format(Tiv))\n",
    "    print(\"tau_zv :: {:.4e}\".format(tau_zv))\n"
   ]
  },
  {
   "cell_type": "markdown",
   "metadata": {},
   "source": []
  },
  {
   "cell_type": "code",
   "execution_count": 20,
   "metadata": {},
   "outputs": [
    {
     "name": "stdout",
     "output_type": "stream",
     "text": [
      "Kpp :: 4.0000e-01\n"
     ]
    }
   ],
   "source": [
    "Ksp = POSITION_SENSOR_GAIN * (180 / math.pi)\n",
    "Kmap = Ksp / Ksv\n",
    "tau_mfp = POSITION_RESPONSE_TIME / 3\n",
    "Kpp = 1 / (Kmap * tau_mfp)\n",
    "\n",
    "if VERBOSITY:\n",
    "    print(\"Kpp :: {:.4e}\".format(Kpp))"
   ]
  },
  {
   "cell_type": "markdown",
   "metadata": {},
   "source": []
  },
  {
   "cell_type": "code",
   "execution_count": 21,
   "metadata": {},
   "outputs": [
    {
     "name": "stdout",
     "output_type": "stream",
     "text": [
      "Kpp' :: 8.0000e-01\n",
      "Tip :: 8.0000e-01\n",
      "tau_zp :: 6.2589e-01\n"
     ]
    }
   ],
   "source": [
    "zeta_p = -math.log(POSITION_OVERSHOOT / 100) / math.sqrt(math.pi**2 + math.log(POSITION_OVERSHOOT / 100)**2)\n",
    "Kpp_ = 2 / (tau_mfp * Kmap)\n",
    "Tip = tau_mfp**2 * zeta_p**2 * Kmap\n",
    "tau_zp = Kpp_ * Tip\n",
    "\n",
    "if VERBOSITY:\n",
    "    print(\"Kpp' :: {:.4e}\".format(Kpp_))\n",
    "    print(\"Tip :: {:.4e}\".format(Kpp_))\n",
    "    print(\"tau_zp :: {:.4e}\".format(tau_zp))"
   ]
  },
  {
   "cell_type": "markdown",
   "metadata": {},
   "source": []
  },
  {
   "cell_type": "code",
   "execution_count": 22,
   "metadata": {},
   "outputs": [],
   "source": [
    "with open(\"../reports/\" + MODEL + \"_parameters.yaml\", \"a\") as file:\n",
    "    documents = yaml.dump({\n",
    "            \"Vcc\": BUS_VOLTAGE,\n",
    "            \"Vtpp\": PEAK_CARRIER_VOLTAGE,\n",
    "            \"fs\": SWITCHING_FREQUENCY,\n",
    "            \"Kg\": GEARBOX_GAIN,\n",
    "            \"Bl\": LOAD_FRICTION_COEFFICIENT,\n",
    "            \"Jl\": LOAD_MOMENT_OF_INERTIA,\n",
    "            \"Ksi\": CURRENT_SENSOR_GAIN,\n",
    "            \"Ksv\": SPEED_SENSOR_GAIN,\n",
    "            \"Ksp\": POSITION_SENSOR_GAIN,\n",
    "            \"Kc\": Kc,\n",
    "            \"Kpi_d\": Kpid,\n",
    "            \"Tii_d\": Tiid,\n",
    "            \"tau_zi_d\": tau_zid,\n",
    "            \"Kpi_q\": Kpiq,\n",
    "            \"Tii_q\": Tiiq,\n",
    "            \"tau_zi_q\": tau_ziq,\n",
    "            \"Kpv\": Kpv,\n",
    "            \"Tiv\": Tiv,\n",
    "            \"tau_zv\": tau_zv,\n",
    "            \"Kpp\": Kpp,\n",
    "            \"Kpp_\": Kpp_,\n",
    "            \"Tip\": Tip,\n",
    "            \"tau_zp\": tau_zp,\n",
    "        }, \n",
    "        file\n",
    "    )"
   ]
  }
 ],
 "metadata": {
  "kernelspec": {
   "display_name": "Python 3.9.12 ('emb5656')",
   "language": "python",
   "name": "python3"
  },
  "language_info": {
   "codemirror_mode": {
    "name": "ipython",
    "version": 3
   },
   "file_extension": ".py",
   "mimetype": "text/x-python",
   "name": "python",
   "nbconvert_exporter": "python",
   "pygments_lexer": "ipython3",
   "version": "3.9.12"
  },
  "orig_nbformat": 4,
  "vscode": {
   "interpreter": {
    "hash": "6af14838a6eabc1e353530c93e12d96f59932cd8436e79029e677621a4fc5b7d"
   }
  }
 },
 "nbformat": 4,
 "nbformat_minor": 2
}
