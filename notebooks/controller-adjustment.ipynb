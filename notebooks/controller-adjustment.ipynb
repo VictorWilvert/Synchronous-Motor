{
 "cells": [
  {
   "cell_type": "markdown",
   "metadata": {},
   "source": [
    "# Notebook"
   ]
  },
  {
   "cell_type": "code",
   "execution_count": 258,
   "metadata": {},
   "outputs": [],
   "source": [
    "import math\n",
    "import yaml"
   ]
  },
  {
   "cell_type": "markdown",
   "metadata": {},
   "source": [
    "## Book Keeping"
   ]
  },
  {
   "cell_type": "code",
   "execution_count": 259,
   "metadata": {},
   "outputs": [],
   "source": [
    "MODEL = \"PE1R_112_M4\"\n",
    "VERBOSITY = 1"
   ]
  },
  {
   "cell_type": "markdown",
   "metadata": {},
   "source": []
  },
  {
   "cell_type": "code",
   "execution_count": 260,
   "metadata": {},
   "outputs": [],
   "source": [
    "SWITCHING_FREQUENCY = 5000\n",
    "BUS_VOLTAGE = 500\n",
    "PEAK_CARRIER_VOLTAGE = 2\n",
    "GEARBOX_GAIN = 10\n",
    "LOAD_MOMENT_OF_INERTIA = 120\n",
    "LOAD_FRICTION_COEFFICIENT = 31.8\n",
    "CURRENT_SENSOR_GAIN = 1 / 60\n",
    "CURRENT_RESPONSE_TIME = 2e-3\n",
    "CURRENT_OVERSHOOT = 7\n",
    "SPEED_SENSOR_GAIN =  1 / 40\n",
    "SPEED_RESPONSE_TIME = 20e-3\n",
    "SPEED_OVERSHOOT = 5\n",
    "POSITION_SENSOR_GAIN =  1 / 330\n",
    "POSITION_RESPONSE_TIME = 200e-3\n",
    "POSITION_OVERSHOOT = 4"
   ]
  },
  {
   "cell_type": "markdown",
   "metadata": {},
   "source": []
  },
  {
   "cell_type": "code",
   "execution_count": 261,
   "metadata": {},
   "outputs": [],
   "source": [
    "with open(\"../reports/\" + MODEL + \"_parameters.yaml\", \"r\") as file:\n",
    "    parameters = yaml.safe_load(file)"
   ]
  },
  {
   "cell_type": "markdown",
   "metadata": {},
   "source": []
  },
  {
   "cell_type": "code",
   "execution_count": 262,
   "metadata": {},
   "outputs": [
    {
     "name": "stdout",
     "output_type": "stream",
     "text": [
      "Kc :: 500.0\n"
     ]
    }
   ],
   "source": [
    "Kc = 2 * BUS_VOLTAGE / PEAK_CARRIER_VOLTAGE\n",
    "Ts = 1 / SWITCHING_FREQUENCY\n",
    "\n",
    "if VERBOSITY:\n",
    "    print(\"Kc :: {0}\".format(Kc))"
   ]
  },
  {
   "cell_type": "markdown",
   "metadata": {},
   "source": []
  },
  {
   "cell_type": "code",
   "execution_count": 263,
   "metadata": {},
   "outputs": [
    {
     "name": "stdout",
     "output_type": "stream",
     "text": [
      "Kpid :: 5.12856\n",
      "Tiid :: 1.0849183731345302e-05\n",
      "tau_zid :: 5.5640689717228266e-05\n"
     ]
    }
   ],
   "source": [
    "Rs = parameters[\"provided_parameters\"][\"Rs\"]\n",
    "Ld = parameters[\"estimated_parameters\"][\"Lq\"]\n",
    "\n",
    "tau_maid = Ld / Rs\n",
    "Kmaid = (Kc * CURRENT_SENSOR_GAIN) / Rs\n",
    "tau_mfid = CURRENT_RESPONSE_TIME / (3 * 10)\n",
    "zeta_id = -math.log(CURRENT_OVERSHOOT / 100) / math.sqrt(math.pi**2 + math.log(CURRENT_OVERSHOOT / 100)**2)\n",
    "Kpid = ((2 * tau_maid) / tau_mfid - 1) / Kmaid\n",
    "Tiid = (tau_mfid**2 * zeta_id**2 * Kmaid) / tau_maid\n",
    "tau_zid = Kpid * Tiid\n",
    "\n",
    "if VERBOSITY:\n",
    "    print(\"Kpid :: {0}\".format(Kpid))\n",
    "    print(\"Tiid :: {0}\".format(Tiid))\n",
    "    print(\"tau_zid :: {0}\".format(tau_zid))"
   ]
  },
  {
   "cell_type": "markdown",
   "metadata": {},
   "source": []
  },
  {
   "cell_type": "code",
   "execution_count": 264,
   "metadata": {},
   "outputs": [
    {
     "name": "stdout",
     "output_type": "stream",
     "text": [
      "Kpiq :: 0.5115600000000001\n",
      "Tiiq :: 0.00108491837313453\n",
      "tau_ziq :: 0.0005550008429607003\n"
     ]
    }
   ],
   "source": [
    "Lq = parameters[\"estimated_parameters\"][\"Lq\"]\n",
    "\n",
    "tau_maiq = Lq / Rs\n",
    "Kmaiq = (Kc * CURRENT_SENSOR_GAIN) / Rs\n",
    "tau_mfiq = CURRENT_RESPONSE_TIME / 3\n",
    "zeta_iq = -math.log(CURRENT_OVERSHOOT / 100) / math.sqrt(math.pi**2 + math.log(CURRENT_OVERSHOOT / 100)**2)\n",
    "Kpiq = ((2 * tau_maiq) / tau_mfiq - 1) / Kmaiq\n",
    "Tiiq = (tau_mfiq**2 * zeta_iq**2 * Kmaiq) / tau_maiq\n",
    "tau_ziq = Kpiq * Tiiq\n",
    "\n",
    "if VERBOSITY:\n",
    "    print(\"Kpiq :: {0}\".format(Kpiq))\n",
    "    print(\"Tiiq :: {0}\".format(Tiiq))\n",
    "    print(\"tau_ziq :: {0}\".format(tau_ziq))"
   ]
  },
  {
   "cell_type": "markdown",
   "metadata": {},
   "source": []
  },
  {
   "cell_type": "code",
   "execution_count": 265,
   "metadata": {},
   "outputs": [
    {
     "name": "stdout",
     "output_type": "stream",
     "text": [
      "Kpv :: 185.8920889046477\n",
      "Tiv :: 3.413527534253094e-05\n",
      "tau_zv :: 0.0063454776387583895\n"
     ]
    }
   ],
   "source": [
    "Br = parameters[\"estimated_parameters\"][\"Br\"]\n",
    "Jr = parameters[\"provided_parameters\"][\"Jr\"]\n",
    "Ke = parameters[\"estimated_parameters\"][\"Ke\"]\n",
    "Kt = parameters[\"estimated_parameters\"][\"Kt\"]\n",
    "\n",
    "Jeq = Jr + LOAD_MOMENT_OF_INERTIA / GEARBOX_GAIN**2\n",
    "Beq = Br + LOAD_FRICTION_COEFFICIENT / GEARBOX_GAIN**2\n",
    "Jti = (Ke * Kt * Tiiq) / (Kc * CURRENT_SENSOR_GAIN)\n",
    "Ksv = SPEED_SENSOR_GAIN * (30 / math.pi) \n",
    "\n",
    "tau_mav = (Jeq + Jti) / Beq\n",
    "Kmav = (Kt * Ksv) / (Beq * GEARBOX_GAIN * CURRENT_SENSOR_GAIN)\n",
    "tau_mfv = SPEED_RESPONSE_TIME / 3\n",
    "zeta_v = -math.log(SPEED_OVERSHOOT / 100) / math.sqrt(math.pi**2 + math.log(SPEED_OVERSHOOT / 100)**2)\n",
    "Kpv = ((2 * tau_mav) / tau_mfv - 1) / Kmav\n",
    "Tiv = (tau_mfv**2 * zeta_v**2 * Kmav) / tau_mav\n",
    "tau_zv = Kpv * Tiv\n",
    "\n",
    "if VERBOSITY:\n",
    "    print(\"Kpv :: {0}\".format(Kpv))\n",
    "    print(\"Tiv :: {0}\".format(Tiv))\n",
    "    print(\"tau_zv :: {0}\".format(tau_zv))\n"
   ]
  },
  {
   "cell_type": "markdown",
   "metadata": {},
   "source": []
  },
  {
   "cell_type": "code",
   "execution_count": 266,
   "metadata": {},
   "outputs": [
    {
     "name": "stdout",
     "output_type": "stream",
     "text": [
      "Kpv :: 20.625000000000004\n"
     ]
    }
   ],
   "source": [
    "Ksp = POSITION_SENSOR_GAIN * (180 / math.pi)\n",
    "Kmap = Ksp / Ksv\n",
    "tau_mfp = POSITION_RESPONSE_TIME / 3\n",
    "Kpv = 1 / (Kmap * tau_mfp)\n",
    "\n",
    "if VERBOSITY:\n",
    "    print(\"Kpv :: {0}\".format(Kpv))"
   ]
  },
  {
   "cell_type": "markdown",
   "metadata": {},
   "source": []
  },
  {
   "cell_type": "code",
   "execution_count": null,
   "metadata": {},
   "outputs": [],
   "source": []
  }
 ],
 "metadata": {
  "kernelspec": {
   "display_name": "Python 3.9.12 ('emb5656')",
   "language": "python",
   "name": "python3"
  },
  "language_info": {
   "codemirror_mode": {
    "name": "ipython",
    "version": 3
   },
   "file_extension": ".py",
   "mimetype": "text/x-python",
   "name": "python",
   "nbconvert_exporter": "python",
   "pygments_lexer": "ipython3",
   "version": "3.9.12"
  },
  "orig_nbformat": 4,
  "vscode": {
   "interpreter": {
    "hash": "6af14838a6eabc1e353530c93e12d96f59932cd8436e79029e677621a4fc5b7d"
   }
  }
 },
 "nbformat": 4,
 "nbformat_minor": 2
}
