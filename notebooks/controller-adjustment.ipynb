{
 "cells": [
  {
   "cell_type": "markdown",
   "metadata": {},
   "source": [
    "# Notebook"
   ]
  },
  {
   "cell_type": "code",
   "execution_count": 119,
   "metadata": {},
   "outputs": [],
   "source": [
    "import math\n",
    "import yaml"
   ]
  },
  {
   "cell_type": "markdown",
   "metadata": {},
   "source": [
    "## Book Keeping"
   ]
  },
  {
   "cell_type": "code",
   "execution_count": 120,
   "metadata": {},
   "outputs": [],
   "source": [
    "MODEL = \"PE1R_112_MX4\"\n",
    "VERBOSITY = 1"
   ]
  },
  {
   "cell_type": "markdown",
   "metadata": {},
   "source": []
  },
  {
   "cell_type": "code",
   "execution_count": 121,
   "metadata": {},
   "outputs": [],
   "source": [
    "SWITCHING_FREQUENCY = 2000\n",
    "BUS_VOLTAGE = 650\n",
    "PEAK_CARRIER_VOLTAGE = 3.25\n",
    "GEARBOX_GAIN = 10\n",
    "CURRENT_SENSOR_GAIN = 1 / 90\n",
    "CURRENT_RESPONSE_TIME = 50e-3\n",
    "CURRENT_OVERSHOOT = 7\n",
    "SPEED_SENSOR_GAIN =  2 / 100\n",
    "SPEED_RESPONSE_TIME = 500e-3\n",
    "SPEED_OVERSHOOT = 5\n",
    "POSITION_SENSOR_GAIN =  1 / 120\n",
    "POSITION_RESPONSE_TIME = 5000e-3\n",
    "POSITION_OVERSHOOT = 12"
   ]
  },
  {
   "cell_type": "markdown",
   "metadata": {},
   "source": []
  },
  {
   "cell_type": "code",
   "execution_count": 122,
   "metadata": {},
   "outputs": [],
   "source": [
    "with open(\"../reports/\" + MODEL + \"_parameters.yaml\", \"r\") as file:\n",
    "    parameters = yaml.safe_load(file)"
   ]
  },
  {
   "cell_type": "markdown",
   "metadata": {},
   "source": []
  },
  {
   "cell_type": "code",
   "execution_count": 123,
   "metadata": {},
   "outputs": [],
   "source": [
    "Tn = parameters[\"Tn\"]\n",
    "wn = parameters[\"wn\"]\n",
    "Br = parameters[\"Br\"]\n",
    "Jr = parameters[\"Jr\"]\n",
    "\n",
    "T = Tn * 0.9\n",
    "Ko = (T * 0.8) * GEARBOX_GAIN\n",
    "\n",
    "Beq = (T * 0.2) / wn\n",
    "Bl = (Beq - Br) * GEARBOX_GAIN**2\n",
    "\n",
    "Jeq = Beq * 3\n",
    "Jl = (Jeq - Br) * GEARBOX_GAIN**2"
   ]
  },
  {
   "cell_type": "markdown",
   "metadata": {},
   "source": []
  },
  {
   "cell_type": "code",
   "execution_count": 124,
   "metadata": {},
   "outputs": [
    {
     "name": "stdout",
     "output_type": "stream",
     "text": [
      "Kc :: 400.0\n"
     ]
    }
   ],
   "source": [
    "Kc = 2 * BUS_VOLTAGE / PEAK_CARRIER_VOLTAGE\n",
    "Ts = 1 / SWITCHING_FREQUENCY\n",
    "\n",
    "if VERBOSITY:\n",
    "    print(\"Kc :: {0}\".format(Kc))"
   ]
  },
  {
   "cell_type": "markdown",
   "metadata": {},
   "source": []
  },
  {
   "cell_type": "code",
   "execution_count": 125,
   "metadata": {},
   "outputs": [
    {
     "name": "stdout",
     "output_type": "stream",
     "text": [
      "Kpid :: 3.6608e+00\n",
      "Tiid :: 3.6549e-04\n",
      "tau_zid :: 1.3380e-03\n"
     ]
    }
   ],
   "source": [
    "Rs = parameters[\"Rs\"]\n",
    "Ld = parameters[\"Lq\"]\n",
    "\n",
    "tau_maid = Ld / Rs\n",
    "Kmaid = (Kc * CURRENT_SENSOR_GAIN) / Rs\n",
    "tau_mfid = CURRENT_RESPONSE_TIME / (3 * 10)\n",
    "zeta_id = -math.log(CURRENT_OVERSHOOT / 100) / math.sqrt(math.pi**2 + math.log(CURRENT_OVERSHOOT / 100)**2)\n",
    "Kpid = ((2 * tau_maid) / tau_mfid - 1) / Kmaid\n",
    "Tiid = (tau_mfid**2 * zeta_id**2 * Kmaid) / tau_maid\n",
    "tau_zid = Kpid * Tiid\n",
    "\n",
    "if VERBOSITY:\n",
    "    print(\"Kpid :: {:.4e}\".format(Kpid))\n",
    "    print(\"Tiid :: {:.4e}\".format(Tiid))\n",
    "    print(\"tau_zid :: {:.4e}\".format(tau_zid))"
   ]
  },
  {
   "cell_type": "markdown",
   "metadata": {},
   "source": []
  },
  {
   "cell_type": "code",
   "execution_count": 126,
   "metadata": {},
   "outputs": [
    {
     "name": "stdout",
     "output_type": "stream",
     "text": [
      "Kpiq :: 2.3445e-01\n",
      "Tiiq :: 3.6549e-02\n",
      "tau_ziq :: 8.5688e-03\n"
     ]
    }
   ],
   "source": [
    "Lq = parameters[\"Lq\"]\n",
    "\n",
    "tau_maiq = Lq / Rs\n",
    "Kmaiq = (Kc * CURRENT_SENSOR_GAIN) / Rs\n",
    "tau_mfiq = CURRENT_RESPONSE_TIME / 3\n",
    "zeta_iq = -math.log(CURRENT_OVERSHOOT / 100) / math.sqrt(math.pi**2 + math.log(CURRENT_OVERSHOOT / 100)**2)\n",
    "Kpiq = ((2 * tau_maiq) / tau_mfiq - 1) / Kmaiq\n",
    "Tiiq = (tau_mfiq**2 * zeta_iq**2 * Kmaiq) / tau_maiq\n",
    "tau_ziq = Kpiq * Tiiq\n",
    "\n",
    "if VERBOSITY:\n",
    "    print(\"Kpiq :: {:.4e}\".format(Kpiq))\n",
    "    print(\"Tiiq :: {:.4e}\".format(Tiiq))\n",
    "    print(\"tau_ziq :: {:.4e}\".format(tau_ziq))"
   ]
  },
  {
   "cell_type": "markdown",
   "metadata": {},
   "source": []
  },
  {
   "cell_type": "code",
   "execution_count": 127,
   "metadata": {},
   "outputs": [
    {
     "name": "stdout",
     "output_type": "stream",
     "text": [
      "Kpv :: 4.2898e-01\n",
      "Tiv :: 3.6197e-01\n",
      "tau_zv :: 1.5527e-01\n"
     ]
    }
   ],
   "source": [
    "Ke = parameters[\"Ke\"]\n",
    "Kt = parameters[\"Kt\"]\n",
    "\n",
    "Jti = (Ke * Kt * Tiiq) / (Kc * CURRENT_SENSOR_GAIN)\n",
    "Ksv = SPEED_SENSOR_GAIN * (30 / math.pi) \n",
    "\n",
    "tau_mav = (Jeq + Jti) / Beq\n",
    "Kmav = (Kt * Ksv) / (Beq * GEARBOX_GAIN * CURRENT_SENSOR_GAIN)\n",
    "tau_mfv = SPEED_RESPONSE_TIME / 3\n",
    "zeta_v = -math.log(SPEED_OVERSHOOT / 100) / math.sqrt(math.pi**2 + math.log(SPEED_OVERSHOOT / 100)**2)\n",
    "Kpv = ((2 * tau_mav) / tau_mfv - 1) / Kmav\n",
    "Tiv = (tau_mfv**2 * zeta_v**2 * Kmav) / tau_mav\n",
    "tau_zv = Kpv * Tiv\n",
    "\n",
    "if VERBOSITY:\n",
    "    print(\"Kpv :: {:.4e}\".format(Kpv))\n",
    "    print(\"Tiv :: {:.4e}\".format(Tiv))\n",
    "    print(\"tau_zv :: {:.4e}\".format(tau_zv))\n"
   ]
  },
  {
   "cell_type": "markdown",
   "metadata": {},
   "source": []
  },
  {
   "cell_type": "code",
   "execution_count": 128,
   "metadata": {},
   "outputs": [
    {
     "name": "stdout",
     "output_type": "stream",
     "text": [
      "Kpp :: 2.4000e-01\n"
     ]
    }
   ],
   "source": [
    "Ksp = POSITION_SENSOR_GAIN * (180 / math.pi)\n",
    "Kmap = Ksp / Ksv\n",
    "tau_mfp = POSITION_RESPONSE_TIME / 3\n",
    "Kpp = 1 / (Kmap * tau_mfp)\n",
    "\n",
    "if VERBOSITY:\n",
    "    print(\"Kpp :: {:.4e}\".format(Kpp))"
   ]
  },
  {
   "cell_type": "markdown",
   "metadata": {},
   "source": []
  },
  {
   "cell_type": "code",
   "execution_count": 129,
   "metadata": {},
   "outputs": [
    {
     "name": "stdout",
     "output_type": "stream",
     "text": [
      "Kpp' :: 4.8000e-01\n",
      "Tip :: 4.8000e-01\n",
      "tau_zp :: 1.0432e+00\n"
     ]
    }
   ],
   "source": [
    "zeta_p = -math.log(POSITION_OVERSHOOT / 100) / math.sqrt(math.pi**2 + math.log(POSITION_OVERSHOOT / 100)**2)\n",
    "Kpp_ = 2 / (tau_mfp * Kmap)\n",
    "Tip = tau_mfp**2 * zeta_p**2 * Kmap\n",
    "tau_zp = Kpp_ * Tip\n",
    "\n",
    "if VERBOSITY:\n",
    "    print(\"Kpp' :: {:.4e}\".format(Kpp_))\n",
    "    print(\"Tip :: {:.4e}\".format(Kpp_))\n",
    "    print(\"tau_zp :: {:.4e}\".format(tau_zp))"
   ]
  },
  {
   "cell_type": "markdown",
   "metadata": {},
   "source": []
  },
  {
   "cell_type": "code",
   "execution_count": 130,
   "metadata": {},
   "outputs": [],
   "source": [
    "with open(\"../reports/\" + MODEL + \"_parameters.yaml\", \"a\") as file:\n",
    "    documents = yaml.dump({\n",
    "            \"Vcc\": BUS_VOLTAGE,\n",
    "            \"Vtpp\": PEAK_CARRIER_VOLTAGE,\n",
    "            \"fs\": SWITCHING_FREQUENCY,\n",
    "            \"Kg\": GEARBOX_GAIN,\n",
    "            \"Bl\": Bl,\n",
    "            \"Jl\": Jl,\n",
    "            \"Ksi\": CURRENT_SENSOR_GAIN,\n",
    "            \"Ksv\": SPEED_SENSOR_GAIN,\n",
    "            \"Ksp\": POSITION_SENSOR_GAIN,\n",
    "            \"Kc\": Kc,\n",
    "            \"Kpi_d\": Kpid,\n",
    "            \"Tii_d\": Tiid,\n",
    "            \"tau_zi_d\": tau_zid,\n",
    "            \"Kpi_q\": Kpiq,\n",
    "            \"Tii_q\": Tiiq,\n",
    "            \"tau_zi_q\": tau_ziq,\n",
    "            \"Kpv\": Kpv,\n",
    "            \"Tiv\": Tiv,\n",
    "            \"tau_zv\": tau_zv,\n",
    "            \"Kpp\": Kpp,\n",
    "            \"Kpp_\": Kpp_,\n",
    "            \"Tip\": Tip,\n",
    "            \"tau_zp\": tau_zp,\n",
    "            \"Ko\": Ko,\n",
    "        }, \n",
    "        file\n",
    "    )"
   ]
  }
 ],
 "metadata": {
  "kernelspec": {
   "display_name": "Python 3.9.12 ('.venv': venv)",
   "language": "python",
   "name": "python3"
  },
  "language_info": {
   "codemirror_mode": {
    "name": "ipython",
    "version": 3
   },
   "file_extension": ".py",
   "mimetype": "text/x-python",
   "name": "python",
   "nbconvert_exporter": "python",
   "pygments_lexer": "ipython3",
   "version": "3.9.7"
  },
  "orig_nbformat": 4,
  "vscode": {
   "interpreter": {
    "hash": "027f44558393eaf60c4f8fd265b459f3a6cb0819e3a59cf1e3379317e874570d"
   }
  }
 },
 "nbformat": 4,
 "nbformat_minor": 2
}
