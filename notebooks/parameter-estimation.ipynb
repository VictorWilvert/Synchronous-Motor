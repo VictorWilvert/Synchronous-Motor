{
 "cells": [
  {
   "cell_type": "markdown",
   "metadata": {},
   "source": [
    "# Notebook"
   ]
  },
  {
   "cell_type": "code",
   "execution_count": 235,
   "metadata": {},
   "outputs": [],
   "source": [
    "import math\n",
    "import cmath\n",
    "import yaml"
   ]
  },
  {
   "cell_type": "markdown",
   "metadata": {},
   "source": [
    "## Book Keeping"
   ]
  },
  {
   "cell_type": "code",
   "execution_count": 236,
   "metadata": {},
   "outputs": [],
   "source": [
    "MODEL = \"PE1R_112_M4\"\n",
    "VERBOSITY = 1"
   ]
  },
  {
   "cell_type": "markdown",
   "metadata": {},
   "source": []
  },
  {
   "cell_type": "code",
   "execution_count": 237,
   "metadata": {},
   "outputs": [],
   "source": [
    "RATED_SPEED = 1500\n",
    "RATED_FREQUENCY = 50\n",
    "RATE_POWER = 4e3\n",
    "VOLTAGE = 320\n",
    "POWER_FACTOR = 0.99\n",
    "RATED_CURRENT = 7.9\n",
    "PHASE_RESISTANCE = 0.9\n",
    "MAGNETISING_INDUCTANCE = 10.5e-3\n",
    "LEAKAGE_INDUCTANCE = 2.5e-3\n",
    "MOTOR_MOMENT_OF_INERTIA = 0.009"
   ]
  },
  {
   "cell_type": "markdown",
   "metadata": {},
   "source": []
  },
  {
   "cell_type": "code",
   "execution_count": 238,
   "metadata": {},
   "outputs": [
    {
     "name": "stdout",
     "output_type": "stream",
     "text": [
      "P  :: 4.0000\n",
      "we  :: 314.1593\n",
      "ws  :: 157.0796\n",
      "wr  :: 157.0796\n"
     ]
    }
   ],
   "source": [
    "P = (120 * RATED_FREQUENCY) / RATED_SPEED\n",
    "we = RATED_FREQUENCY * (2 * math.pi)\n",
    "ws = RATED_SPEED * (math.pi / 30)\n",
    "wr = ws\n",
    "\n",
    "if VERBOSITY:\n",
    "    print(\"P  :: {:.4f}\".format(P))\n",
    "    print(\"we  :: {:.4f}\".format(we))\n",
    "    print(\"ws  :: {:.4f}\".format(ws))\n",
    "    print(\"wr  :: {:.4f}\".format(wr))"
   ]
  },
  {
   "cell_type": "markdown",
   "metadata": {},
   "source": []
  },
  {
   "cell_type": "code",
   "execution_count": 239,
   "metadata": {},
   "outputs": [
    {
     "name": "stdout",
     "output_type": "stream",
     "text": [
      "Ld :: 18.2500m\n",
      "Lq :: 18.2500m\n",
      "Ls :: 18.2500m\n"
     ]
    }
   ],
   "source": [
    "Ld = LEAKAGE_INDUCTANCE + (3 / 2) * MAGNETISING_INDUCTANCE\n",
    "Lq = LEAKAGE_INDUCTANCE + (3 / 2) * MAGNETISING_INDUCTANCE\n",
    "Ls = LEAKAGE_INDUCTANCE + (3 / 2) * MAGNETISING_INDUCTANCE\n",
    "\n",
    "if VERBOSITY:\n",
    "    print(\"Ld :: {:.4f}m\".format(Ld * 1000))\n",
    "    print(\"Lq :: {:.4f}m\".format(Lq * 1000))\n",
    "    print(\"Ls :: {:.4f}m\".format(Ls * 1000))"
   ]
  },
  {
   "cell_type": "markdown",
   "metadata": {},
   "source": []
  },
  {
   "cell_type": "code",
   "execution_count": 240,
   "metadata": {},
   "outputs": [
    {
     "name": "stdout",
     "output_type": "stream",
     "text": [
      "Va :: 184.7521\n",
      "Ia :: 7.8210-1.1144j\n",
      "Eaf :: 171.3237-43.8380j\n",
      "Vpk_krpm :: 288.7840\n"
     ]
    }
   ],
   "source": [
    "Va = VOLTAGE / math.sqrt(3)\n",
    "Ia = cmath.rect(RATED_CURRENT, -math.acos(POWER_FACTOR))\n",
    "Eaf = Va - Ia * complex(PHASE_RESISTANCE, Ls * we)\n",
    "Vpk_krpm = math.sqrt(2) * ((math.sqrt(3) * abs(Eaf)) / (RATED_SPEED / 1000))\n",
    "\n",
    "if VERBOSITY:\n",
    "    print(\"Va :: {:.4f}\".format(Va))\n",
    "    print(\"Ia :: {:.4f}\".format(Ia))\n",
    "    print(\"Eaf :: {:.4f}\".format(Eaf))\n",
    "    print(\"Vpk_krpm :: {:.4f}\".format(Vpk_krpm))"
   ]
  },
  {
   "cell_type": "markdown",
   "metadata": {},
   "source": []
  },
  {
   "cell_type": "code",
   "execution_count": 241,
   "metadata": {},
   "outputs": [
    {
     "name": "stdout",
     "output_type": "stream",
     "text": [
      "Pe :: 4166.3312\n",
      "Br :: 6.7411m\n",
      "tau_shaft :: 1.3351\n"
     ]
    }
   ],
   "source": [
    "Pe = 3 * (Eaf * Ia.conjugate()).real\n",
    "Br = (Pe - RATE_POWER) / ws**2\n",
    "tau_shaft = MOTOR_MOMENT_OF_INERTIA / Br\n",
    "\n",
    "if VERBOSITY:\n",
    "    print(\"Pe :: {:.4f}\".format(Pe))\n",
    "    print(\"Br :: {:.4f}m\".format(Br * 1000))\n",
    "    print(\"tau_shaft :: {:.4f}\".format(tau_shaft))"
   ]
  },
  {
   "cell_type": "markdown",
   "metadata": {},
   "source": []
  },
  {
   "cell_type": "code",
   "execution_count": 242,
   "metadata": {},
   "outputs": [
    {
     "name": "stdout",
     "output_type": "stream",
     "text": [
      "lambda_fm :: 0.7961\n"
     ]
    }
   ],
   "source": [
    "lambda_fm = (math.sqrt(2) * abs(Eaf)) / ((P / 2) * wr)\n",
    "\n",
    "if VERBOSITY:\n",
    "    print(\"lambda_fm :: {:.4f}\".format(lambda_fm))"
   ]
  },
  {
   "cell_type": "markdown",
   "metadata": {},
   "source": []
  },
  {
   "cell_type": "code",
   "execution_count": 243,
   "metadata": {},
   "outputs": [],
   "source": [
    "with open(\"../reports/\" + MODEL + \"_parameters.yaml\", \"w\") as file:\n",
    "    documents = yaml.dump({\n",
    "            \"provided_parameters\": {\n",
    "                \"Rs\": PHASE_RESISTANCE,\n",
    "                \"Jr\": MOTOR_MOMENT_OF_INERTIA,\n",
    "            }, \"estimated_parameters\": {\n",
    "                \"Ld\": Ld,\n",
    "                \"Lq\": Lq,\n",
    "                \"Vpk_krpm\": Vpk_krpm,\n",
    "                \"P\": P,\n",
    "                \"tau_shaft\": tau_shaft,\n",
    "            }\n",
    "        }, \n",
    "        file\n",
    "    )"
   ]
  }
 ],
 "metadata": {
  "kernelspec": {
   "display_name": "Python 3.9.7 ('.venv': venv)",
   "language": "python",
   "name": "python3"
  },
  "language_info": {
   "codemirror_mode": {
    "name": "ipython",
    "version": 3
   },
   "file_extension": ".py",
   "mimetype": "text/x-python",
   "name": "python",
   "nbconvert_exporter": "python",
   "pygments_lexer": "ipython3",
   "version": "3.9.12"
  },
  "orig_nbformat": 4,
  "vscode": {
   "interpreter": {
    "hash": "cb8952d150c8959b64b07e1f3b34d8585a2a1f56f8d3439b36b335cd7b39826f"
   }
  }
 },
 "nbformat": 4,
 "nbformat_minor": 2
}
