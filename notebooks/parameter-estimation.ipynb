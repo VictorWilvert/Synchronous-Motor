{
 "cells": [
  {
   "cell_type": "markdown",
   "metadata": {},
   "source": [
    "# Notebook"
   ]
  },
  {
   "cell_type": "code",
   "execution_count": 56,
   "metadata": {},
   "outputs": [],
   "source": [
    "import math\n",
    "import cmath\n",
    "import yaml"
   ]
  },
  {
   "cell_type": "markdown",
   "metadata": {},
   "source": [
    "## Book Keeping"
   ]
  },
  {
   "cell_type": "code",
   "execution_count": 57,
   "metadata": {},
   "outputs": [],
   "source": [
    "MODEL = \"PE1R_315_S6\"\n",
    "VERBOSITY = 1"
   ]
  },
  {
   "cell_type": "markdown",
   "metadata": {},
   "source": []
  },
  {
   "cell_type": "code",
   "execution_count": 58,
   "metadata": {},
   "outputs": [],
   "source": [
    "RATED_SPEED = 1000\n",
    "RATED_FREQUENCY = 50\n",
    "RATED_POWER = 90e3\n",
    "MAX_TORQUE = 1074\n",
    "VOLTAGE = 361\n",
    "POWER_FACTOR = 0.97\n",
    "RATED_CURRENT = 158\n",
    "PHASE_RESISTANCE = 0.012\n",
    "MAGNETISING_INDUCTANCE = 0.79e-3\n",
    "LEAKAGE_INDUCTANCE = 0.24e-3\n",
    "MOTOR_MOMENT_OF_INERTIA = 2.42"
   ]
  },
  {
   "cell_type": "markdown",
   "metadata": {},
   "source": []
  },
  {
   "cell_type": "code",
   "execution_count": 59,
   "metadata": {},
   "outputs": [
    {
     "name": "stdout",
     "output_type": "stream",
     "text": [
      "P :: 6.0\n",
      "we :: 3.1416e+02\n",
      "ws :: 1.0472e+02\n",
      "wr :: 1.0472e+02\n"
     ]
    }
   ],
   "source": [
    "P = (120 * RATED_FREQUENCY) / RATED_SPEED\n",
    "we = RATED_FREQUENCY * (2 * math.pi)\n",
    "ws = RATED_SPEED * (math.pi / 30)\n",
    "wr = ws\n",
    "\n",
    "if VERBOSITY:\n",
    "    print(\"P :: {0}\".format(P))\n",
    "    print(\"we :: {:.4e}\".format(we))\n",
    "    print(\"ws :: {:.4e}\".format(ws))\n",
    "    print(\"wr :: {:.4e}\".format(wr))"
   ]
  },
  {
   "cell_type": "markdown",
   "metadata": {},
   "source": []
  },
  {
   "cell_type": "code",
   "execution_count": 60,
   "metadata": {},
   "outputs": [
    {
     "name": "stdout",
     "output_type": "stream",
     "text": [
      "Ld :: 1.4250e+00\n",
      "Lq :: 1.4250e+00\n",
      "Ls :: 1.4250e+00\n"
     ]
    }
   ],
   "source": [
    "Ld = LEAKAGE_INDUCTANCE + (3 / 2) * MAGNETISING_INDUCTANCE\n",
    "Lq = LEAKAGE_INDUCTANCE + (3 / 2) * MAGNETISING_INDUCTANCE\n",
    "Ls = LEAKAGE_INDUCTANCE + (3 / 2) * MAGNETISING_INDUCTANCE\n",
    "\n",
    "if VERBOSITY:\n",
    "    print(\"Ld :: {:.4e}\".format(Ld * 1000))\n",
    "    print(\"Lq :: {:.4e}\".format(Lq * 1000))\n",
    "    print(\"Ls :: {:.4e}\".format(Ls * 1000))"
   ]
  },
  {
   "cell_type": "markdown",
   "metadata": {},
   "source": []
  },
  {
   "cell_type": "code",
   "execution_count": 61,
   "metadata": {},
   "outputs": [
    {
     "name": "stdout",
     "output_type": "stream",
     "text": [
      "Va :: 2.0842e+02\n",
      "Ia :: 1.5326e+02-3.8411e+01j\n",
      "Eaf :: 1.8939e+02-6.8150e+01j\n",
      "Vpk_krpm :: 4.9303e+02\n"
     ]
    }
   ],
   "source": [
    "Va = VOLTAGE / math.sqrt(3)\n",
    "Ia = cmath.rect(RATED_CURRENT, -math.acos(POWER_FACTOR))\n",
    "Eaf = Va - Ia * complex(PHASE_RESISTANCE, Ls * we)\n",
    "Vpk_krpm = math.sqrt(2) * ((math.sqrt(3) * abs(Eaf)) / (RATED_SPEED / 1000))\n",
    "\n",
    "if VERBOSITY:\n",
    "    print(\"Va :: {:.4e}\".format(Va))\n",
    "    print(\"Ia :: {:.4e}\".format(Ia))\n",
    "    print(\"Eaf :: {:.4e}\".format(Eaf))\n",
    "    print(\"Vpk_krpm :: {:.4e}\".format(Vpk_krpm))"
   ]
  },
  {
   "cell_type": "markdown",
   "metadata": {},
   "source": []
  },
  {
   "cell_type": "code",
   "execution_count": 62,
   "metadata": {},
   "outputs": [
    {
     "name": "stdout",
     "output_type": "stream",
     "text": [
      "Pe :: 9.4930e+04\n",
      "Br :: 4.4958e+02\n",
      "tau_shaft :: 5.3828e+00\n"
     ]
    }
   ],
   "source": [
    "Pe = 3 * (Eaf * Ia.conjugate()).real\n",
    "Br = (Pe - RATED_POWER) / ws**2\n",
    "tau_shaft = MOTOR_MOMENT_OF_INERTIA / Br\n",
    "\n",
    "if VERBOSITY:\n",
    "    print(\"Pe :: {:.4e}\".format(Pe))\n",
    "    print(\"Br :: {:.4e}\".format(Br * 1000))\n",
    "    print(\"tau_shaft :: {:.4e}\".format(tau_shaft))"
   ]
  },
  {
   "cell_type": "markdown",
   "metadata": {},
   "source": []
  },
  {
   "cell_type": "code",
   "execution_count": 63,
   "metadata": {},
   "outputs": [
    {
     "name": "stdout",
     "output_type": "stream",
     "text": [
      "lambda_fm :: 9.0607e-01\n"
     ]
    }
   ],
   "source": [
    "lambda_fm = (math.sqrt(2) * abs(Eaf)) / ((P / 2) * wr)\n",
    "\n",
    "if VERBOSITY:\n",
    "    print(\"lambda_fm :: {:.4e}\".format(lambda_fm))"
   ]
  },
  {
   "cell_type": "code",
   "execution_count": 64,
   "metadata": {},
   "outputs": [
    {
     "name": "stdout",
     "output_type": "stream",
     "text": [
      "Ke :: 2.7182e+00\n",
      "Kt :: 4.0773e+00\n"
     ]
    }
   ],
   "source": [
    "Ke = (P / 2) * lambda_fm\n",
    "Kt = (3 / 2) * (P / 2) * lambda_fm\n",
    "\n",
    "if VERBOSITY:\n",
    "    print(\"Ke :: {:.4e}\".format(Ke))\n",
    "    print(\"Kt :: {:.4e}\".format(Kt))"
   ]
  },
  {
   "cell_type": "markdown",
   "metadata": {},
   "source": []
  },
  {
   "cell_type": "code",
   "execution_count": 65,
   "metadata": {},
   "outputs": [
    {
     "name": "stdout",
     "output_type": "stream",
     "text": [
      "Ia_max :: 2.6341e+02\n"
     ]
    }
   ],
   "source": [
    "Ia_max = MAX_TORQUE / Kt\n",
    "\n",
    "if VERBOSITY:\n",
    "    print(\"Ia_max :: {:.4e}\".format(Ia_max))"
   ]
  },
  {
   "cell_type": "markdown",
   "metadata": {},
   "source": []
  },
  {
   "cell_type": "code",
   "execution_count": 66,
   "metadata": {},
   "outputs": [],
   "source": [
    "with open(\"../reports/\" + MODEL + \"_parameters.yaml\", \"w\") as file:\n",
    "    documents = yaml.dump({\n",
    "            \"Rs\": PHASE_RESISTANCE,\n",
    "            \"Jr\": MOTOR_MOMENT_OF_INERTIA,\n",
    "            \"Ld\": Ld,\n",
    "            \"Lq\": Lq,\n",
    "            \"Vpk_krpm\": Vpk_krpm,\n",
    "            \"Ke\": Ke,\n",
    "            \"Kt\": Kt,\n",
    "            \"P\": P,\n",
    "            \"Br\": Br,\n",
    "            \"tau_shaft\": tau_shaft,\n",
    "            \"Ia_max\": Ia_max,\n",
    "        }, \n",
    "        file\n",
    "    )"
   ]
  }
 ],
 "metadata": {
  "kernelspec": {
   "display_name": "Python 3.9.12 ('.venv': venv)",
   "language": "python",
   "name": "python3"
  },
  "language_info": {
   "codemirror_mode": {
    "name": "ipython",
    "version": 3
   },
   "file_extension": ".py",
   "mimetype": "text/x-python",
   "name": "python",
   "nbconvert_exporter": "python",
   "pygments_lexer": "ipython3",
   "version": "3.9.12"
  },
  "orig_nbformat": 4,
  "vscode": {
   "interpreter": {
    "hash": "027f44558393eaf60c4f8fd265b459f3a6cb0819e3a59cf1e3379317e874570d"
   }
  }
 },
 "nbformat": 4,
 "nbformat_minor": 2
}
